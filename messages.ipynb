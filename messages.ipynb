{
 "cells": [
  {
   "cell_type": "code",
   "execution_count": 72,
   "metadata": {},
   "outputs": [],
   "source": [
    "import pandas as pd\n",
    "import numpy as np\n",
    "from collections import Counter"
   ]
  },
  {
   "cell_type": "markdown",
   "metadata": {},
   "source": [
    "Ideas\n",
    "- love counter\n",
    "- emoji use summary\n",
    "- attachments\n",
    "- who sent more texts\n",
    "- who sent longer texts\n",
    "- times of the day that we text"
   ]
  },
  {
   "cell_type": "code",
   "execution_count": 73,
   "metadata": {},
   "outputs": [],
   "source": [
    "df = pd.read_csv('/Users/gabrieltaylor/Downloads/Messages - Claire Robinson.csv')"
   ]
  },
  {
   "cell_type": "code",
   "execution_count": 74,
   "metadata": {},
   "outputs": [
    {
     "name": "stdout",
     "output_type": "stream",
     "text": [
      "<class 'pandas.core.frame.DataFrame'>\n",
      "RangeIndex: 49828 entries, 0 to 49827\n",
      "Data columns (total 14 columns):\n",
      " #   Column           Non-Null Count  Dtype  \n",
      "---  ------           --------------  -----  \n",
      " 0   Chat Session     49828 non-null  object \n",
      " 1   Message Date     49828 non-null  object \n",
      " 2   Delivered Date   23727 non-null  object \n",
      " 3   Read Date        25570 non-null  object \n",
      " 4   Service          49828 non-null  object \n",
      " 5   Type             49828 non-null  object \n",
      " 6   Sender ID        26083 non-null  float64\n",
      " 7   Sender Name      26083 non-null  object \n",
      " 8   Status           49681 non-null  object \n",
      " 9   Replying to      2311 non-null   object \n",
      " 10  Subject          0 non-null      float64\n",
      " 11  Text             45312 non-null  object \n",
      " 12  Attachment       4520 non-null   object \n",
      " 13  Attachment type  4520 non-null   object \n",
      "dtypes: float64(2), object(12)\n",
      "memory usage: 5.3+ MB\n"
     ]
    }
   ],
   "source": [
    "df.info()"
   ]
  },
  {
   "cell_type": "code",
   "execution_count": 75,
   "metadata": {},
   "outputs": [
    {
     "data": {
      "text/html": [
       "<div>\n",
       "<style scoped>\n",
       "    .dataframe tbody tr th:only-of-type {\n",
       "        vertical-align: middle;\n",
       "    }\n",
       "\n",
       "    .dataframe tbody tr th {\n",
       "        vertical-align: top;\n",
       "    }\n",
       "\n",
       "    .dataframe thead th {\n",
       "        text-align: right;\n",
       "    }\n",
       "</style>\n",
       "<table border=\"1\" class=\"dataframe\">\n",
       "  <thead>\n",
       "    <tr style=\"text-align: right;\">\n",
       "      <th></th>\n",
       "      <th>Chat Session</th>\n",
       "      <th>Message Date</th>\n",
       "      <th>Delivered Date</th>\n",
       "      <th>Read Date</th>\n",
       "      <th>Service</th>\n",
       "      <th>Type</th>\n",
       "      <th>Sender ID</th>\n",
       "      <th>Sender Name</th>\n",
       "      <th>Status</th>\n",
       "      <th>Replying to</th>\n",
       "      <th>Subject</th>\n",
       "      <th>Text</th>\n",
       "      <th>Attachment</th>\n",
       "      <th>Attachment type</th>\n",
       "    </tr>\n",
       "  </thead>\n",
       "  <tbody>\n",
       "    <tr>\n",
       "      <th>0</th>\n",
       "      <td>Claire Robinson</td>\n",
       "      <td>2021-02-03 22:02:10</td>\n",
       "      <td>NaN</td>\n",
       "      <td>2021-02-03 22:37:40</td>\n",
       "      <td>iMessage</td>\n",
       "      <td>Incoming</td>\n",
       "      <td>1.309371e+10</td>\n",
       "      <td>Claire Robinson</td>\n",
       "      <td>Read</td>\n",
       "      <td>NaN</td>\n",
       "      <td>NaN</td>\n",
       "      <td>hey it’s claire from hinge, when’s our first d...</td>\n",
       "      <td>NaN</td>\n",
       "      <td>NaN</td>\n",
       "    </tr>\n",
       "    <tr>\n",
       "      <th>1</th>\n",
       "      <td>Claire Robinson</td>\n",
       "      <td>2021-02-03 22:39:59</td>\n",
       "      <td>2021-02-03 22:40:48</td>\n",
       "      <td>NaN</td>\n",
       "      <td>iMessage</td>\n",
       "      <td>Outgoing</td>\n",
       "      <td>NaN</td>\n",
       "      <td>NaN</td>\n",
       "      <td>Delivered</td>\n",
       "      <td>NaN</td>\n",
       "      <td>NaN</td>\n",
       "      <td>Next Friday</td>\n",
       "      <td>NaN</td>\n",
       "      <td>NaN</td>\n",
       "    </tr>\n",
       "    <tr>\n",
       "      <th>2</th>\n",
       "      <td>Claire Robinson</td>\n",
       "      <td>2021-02-03 22:40:05</td>\n",
       "      <td>2021-02-03 22:40:48</td>\n",
       "      <td>NaN</td>\n",
       "      <td>iMessage</td>\n",
       "      <td>Outgoing</td>\n",
       "      <td>NaN</td>\n",
       "      <td>NaN</td>\n",
       "      <td>Delivered</td>\n",
       "      <td>NaN</td>\n",
       "      <td>NaN</td>\n",
       "      <td>I can’t believe you forgot</td>\n",
       "      <td>NaN</td>\n",
       "      <td>NaN</td>\n",
       "    </tr>\n",
       "    <tr>\n",
       "      <th>3</th>\n",
       "      <td>Claire Robinson</td>\n",
       "      <td>2021-02-04 14:05:01</td>\n",
       "      <td>NaN</td>\n",
       "      <td>2021-02-04 17:41:59</td>\n",
       "      <td>iMessage</td>\n",
       "      <td>Incoming</td>\n",
       "      <td>1.309371e+10</td>\n",
       "      <td>Claire Robinson</td>\n",
       "      <td>Read</td>\n",
       "      <td>NaN</td>\n",
       "      <td>NaN</td>\n",
       "      <td>Ohh now I remember! can’t wait my love</td>\n",
       "      <td>NaN</td>\n",
       "      <td>NaN</td>\n",
       "    </tr>\n",
       "    <tr>\n",
       "      <th>4</th>\n",
       "      <td>Claire Robinson</td>\n",
       "      <td>2021-02-08 13:38:45</td>\n",
       "      <td>2021-02-08 13:38:46</td>\n",
       "      <td>NaN</td>\n",
       "      <td>iMessage</td>\n",
       "      <td>Outgoing</td>\n",
       "      <td>NaN</td>\n",
       "      <td>NaN</td>\n",
       "      <td>Delivered</td>\n",
       "      <td>NaN</td>\n",
       "      <td>NaN</td>\n",
       "      <td>Where are you living rn</td>\n",
       "      <td>NaN</td>\n",
       "      <td>NaN</td>\n",
       "    </tr>\n",
       "  </tbody>\n",
       "</table>\n",
       "</div>"
      ],
      "text/plain": [
       "      Chat Session         Message Date       Delivered Date  \\\n",
       "0  Claire Robinson  2021-02-03 22:02:10                  NaN   \n",
       "1  Claire Robinson  2021-02-03 22:39:59  2021-02-03 22:40:48   \n",
       "2  Claire Robinson  2021-02-03 22:40:05  2021-02-03 22:40:48   \n",
       "3  Claire Robinson  2021-02-04 14:05:01                  NaN   \n",
       "4  Claire Robinson  2021-02-08 13:38:45  2021-02-08 13:38:46   \n",
       "\n",
       "             Read Date   Service      Type     Sender ID      Sender Name  \\\n",
       "0  2021-02-03 22:37:40  iMessage  Incoming  1.309371e+10  Claire Robinson   \n",
       "1                  NaN  iMessage  Outgoing           NaN              NaN   \n",
       "2                  NaN  iMessage  Outgoing           NaN              NaN   \n",
       "3  2021-02-04 17:41:59  iMessage  Incoming  1.309371e+10  Claire Robinson   \n",
       "4                  NaN  iMessage  Outgoing           NaN              NaN   \n",
       "\n",
       "      Status Replying to  Subject  \\\n",
       "0       Read         NaN      NaN   \n",
       "1  Delivered         NaN      NaN   \n",
       "2  Delivered         NaN      NaN   \n",
       "3       Read         NaN      NaN   \n",
       "4  Delivered         NaN      NaN   \n",
       "\n",
       "                                                Text Attachment  \\\n",
       "0  hey it’s claire from hinge, when’s our first d...        NaN   \n",
       "1                                        Next Friday        NaN   \n",
       "2                         I can’t believe you forgot        NaN   \n",
       "3             Ohh now I remember! can’t wait my love        NaN   \n",
       "4                            Where are you living rn        NaN   \n",
       "\n",
       "  Attachment type  \n",
       "0             NaN  \n",
       "1             NaN  \n",
       "2             NaN  \n",
       "3             NaN  \n",
       "4             NaN  "
      ]
     },
     "execution_count": 75,
     "metadata": {},
     "output_type": "execute_result"
    }
   ],
   "source": [
    "df.head()"
   ]
  },
  {
   "cell_type": "markdown",
   "metadata": {},
   "source": [
    "Claire words"
   ]
  },
  {
   "cell_type": "code",
   "execution_count": 76,
   "metadata": {},
   "outputs": [],
   "source": [
    "claire_corpus = df.loc[df.Type == 'Incoming', 'Text'].str.cat(sep=' ')"
   ]
  },
  {
   "cell_type": "code",
   "execution_count": 77,
   "metadata": {},
   "outputs": [],
   "source": [
    "claire_corpus = [i.lower() for i in claire_corpus.split()]"
   ]
  },
  {
   "cell_type": "code",
   "execution_count": 79,
   "metadata": {},
   "outputs": [],
   "source": [
    "claire_words = dict(Counter(claire_corpus).most_common())"
   ]
  },
  {
   "cell_type": "code",
   "execution_count": 80,
   "metadata": {},
   "outputs": [
    {
     "data": {
      "text/plain": [
       "768"
      ]
     },
     "execution_count": 80,
     "metadata": {},
     "output_type": "execute_result"
    }
   ],
   "source": [
    "claire_words['love']"
   ]
  },
  {
   "cell_type": "markdown",
   "metadata": {},
   "source": [
    "Gabe words"
   ]
  },
  {
   "cell_type": "code",
   "execution_count": 81,
   "metadata": {},
   "outputs": [],
   "source": [
    "gabe_corpus = df.loc[df.Type == 'Outgoing', 'Text'].str.cat(sep=' ')"
   ]
  },
  {
   "cell_type": "code",
   "execution_count": 82,
   "metadata": {},
   "outputs": [],
   "source": [
    "gabe_corpus = [i.lower() for i in gabe_corpus.split()]"
   ]
  },
  {
   "cell_type": "code",
   "execution_count": 83,
   "metadata": {},
   "outputs": [],
   "source": [
    "gabe_words = dict(Counter(gabe_corpus).most_common())"
   ]
  },
  {
   "cell_type": "code",
   "execution_count": 84,
   "metadata": {},
   "outputs": [
    {
     "data": {
      "text/plain": [
       "535"
      ]
     },
     "execution_count": 84,
     "metadata": {},
     "output_type": "execute_result"
    }
   ],
   "source": [
    "gabe_words['love']"
   ]
  },
  {
   "cell_type": "code",
   "execution_count": 99,
   "metadata": {},
   "outputs": [],
   "source": [
    "def word_cnt(x):\n",
    "    corp = x['Text'].str.cat(sep=' ')\n",
    "    corp = [i.lower() for i in corp.split()]\n",
    "    return pd.Series(dict(Counter(corp).most_common()))"
   ]
  },
  {
   "cell_type": "code",
   "execution_count": 101,
   "metadata": {},
   "outputs": [
    {
     "data": {
      "text/html": [
       "<div>\n",
       "<style scoped>\n",
       "    .dataframe tbody tr th:only-of-type {\n",
       "        vertical-align: middle;\n",
       "    }\n",
       "\n",
       "    .dataframe tbody tr th {\n",
       "        vertical-align: top;\n",
       "    }\n",
       "\n",
       "    .dataframe thead th {\n",
       "        text-align: right;\n",
       "    }\n",
       "</style>\n",
       "<table border=\"1\" class=\"dataframe\">\n",
       "  <thead>\n",
       "    <tr style=\"text-align: right;\">\n",
       "      <th></th>\n",
       "      <th>Type</th>\n",
       "      <th>level_1</th>\n",
       "      <th>0</th>\n",
       "    </tr>\n",
       "  </thead>\n",
       "  <tbody>\n",
       "    <tr>\n",
       "      <th>0</th>\n",
       "      <td>Incoming</td>\n",
       "      <td>i</td>\n",
       "      <td>8276</td>\n",
       "    </tr>\n",
       "    <tr>\n",
       "      <th>1</th>\n",
       "      <td>Incoming</td>\n",
       "      <td>you</td>\n",
       "      <td>4213</td>\n",
       "    </tr>\n",
       "    <tr>\n",
       "      <th>2</th>\n",
       "      <td>Incoming</td>\n",
       "      <td>to</td>\n",
       "      <td>3937</td>\n",
       "    </tr>\n",
       "    <tr>\n",
       "      <th>3</th>\n",
       "      <td>Incoming</td>\n",
       "      <td>the</td>\n",
       "      <td>3096</td>\n",
       "    </tr>\n",
       "    <tr>\n",
       "      <th>4</th>\n",
       "      <td>Incoming</td>\n",
       "      <td>and</td>\n",
       "      <td>2669</td>\n",
       "    </tr>\n",
       "    <tr>\n",
       "      <th>...</th>\n",
       "      <td>...</td>\n",
       "      <td>...</td>\n",
       "      <td>...</td>\n",
       "    </tr>\n",
       "    <tr>\n",
       "      <th>28128</th>\n",
       "      <td>Outgoing</td>\n",
       "      <td>stood</td>\n",
       "      <td>1</td>\n",
       "    </tr>\n",
       "    <tr>\n",
       "      <th>28129</th>\n",
       "      <td>Outgoing</td>\n",
       "      <td>wife’s</td>\n",
       "      <td>1</td>\n",
       "    </tr>\n",
       "    <tr>\n",
       "      <th>28130</th>\n",
       "      <td>Outgoing</td>\n",
       "      <td>lebanon</td>\n",
       "      <td>1</td>\n",
       "    </tr>\n",
       "    <tr>\n",
       "      <th>28131</th>\n",
       "      <td>Outgoing</td>\n",
       "      <td>coma</td>\n",
       "      <td>1</td>\n",
       "    </tr>\n",
       "    <tr>\n",
       "      <th>28132</th>\n",
       "      <td>Outgoing</td>\n",
       "      <td>wings😏</td>\n",
       "      <td>1</td>\n",
       "    </tr>\n",
       "  </tbody>\n",
       "</table>\n",
       "<p>28133 rows × 3 columns</p>\n",
       "</div>"
      ],
      "text/plain": [
       "           Type  level_1     0\n",
       "0      Incoming        i  8276\n",
       "1      Incoming      you  4213\n",
       "2      Incoming       to  3937\n",
       "3      Incoming      the  3096\n",
       "4      Incoming      and  2669\n",
       "...         ...      ...   ...\n",
       "28128  Outgoing    stood     1\n",
       "28129  Outgoing   wife’s     1\n",
       "28130  Outgoing  lebanon     1\n",
       "28131  Outgoing     coma     1\n",
       "28132  Outgoing   wings😏     1\n",
       "\n",
       "[28133 rows x 3 columns]"
      ]
     },
     "execution_count": 101,
     "metadata": {},
     "output_type": "execute_result"
    }
   ],
   "source": [
    "df.groupby('Type').apply(word_cnt).reset_index()"
   ]
  },
  {
   "cell_type": "markdown",
   "metadata": {},
   "source": [
    "Change Date type"
   ]
  },
  {
   "cell_type": "code",
   "execution_count": 85,
   "metadata": {},
   "outputs": [],
   "source": [
    "df['Message Date'] = df['Message Date'].apply(pd.to_datetime)"
   ]
  },
  {
   "cell_type": "code",
   "execution_count": 86,
   "metadata": {},
   "outputs": [],
   "source": [
    "df['Day'] = df['Message Date'].dt.date\n",
    "df['Time'] = df['Message Date'].dt.time\n",
    "df['Hour'] = df['Message Date'].dt.hour"
   ]
  },
  {
   "cell_type": "code",
   "execution_count": 87,
   "metadata": {},
   "outputs": [],
   "source": [
    "import matplotlib.pyplot as plt\n",
    "import seaborn as sns"
   ]
  },
  {
   "cell_type": "code",
   "execution_count": 103,
   "metadata": {},
   "outputs": [],
   "source": [
    "plot_df = df.groupby(['Day', 'Type']).apply(lambda x: len(x))\n"
   ]
  },
  {
   "cell_type": "code",
   "execution_count": 110,
   "metadata": {},
   "outputs": [
    {
     "data": {
      "text/html": [
       "<div>\n",
       "<style scoped>\n",
       "    .dataframe tbody tr th:only-of-type {\n",
       "        vertical-align: middle;\n",
       "    }\n",
       "\n",
       "    .dataframe tbody tr th {\n",
       "        vertical-align: top;\n",
       "    }\n",
       "\n",
       "    .dataframe thead th {\n",
       "        text-align: right;\n",
       "    }\n",
       "</style>\n",
       "<table border=\"1\" class=\"dataframe\">\n",
       "  <thead>\n",
       "    <tr style=\"text-align: right;\">\n",
       "      <th>Type</th>\n",
       "      <th>Day</th>\n",
       "      <th>Incoming</th>\n",
       "      <th>Notification</th>\n",
       "      <th>Outgoing</th>\n",
       "    </tr>\n",
       "  </thead>\n",
       "  <tbody>\n",
       "    <tr>\n",
       "      <th>0</th>\n",
       "      <td>2021-02-03</td>\n",
       "      <td>1.0</td>\n",
       "      <td>NaN</td>\n",
       "      <td>2.0</td>\n",
       "    </tr>\n",
       "    <tr>\n",
       "      <th>1</th>\n",
       "      <td>2021-02-04</td>\n",
       "      <td>1.0</td>\n",
       "      <td>NaN</td>\n",
       "      <td>NaN</td>\n",
       "    </tr>\n",
       "    <tr>\n",
       "      <th>2</th>\n",
       "      <td>2021-02-08</td>\n",
       "      <td>15.0</td>\n",
       "      <td>NaN</td>\n",
       "      <td>15.0</td>\n",
       "    </tr>\n",
       "    <tr>\n",
       "      <th>3</th>\n",
       "      <td>2021-02-11</td>\n",
       "      <td>2.0</td>\n",
       "      <td>NaN</td>\n",
       "      <td>2.0</td>\n",
       "    </tr>\n",
       "    <tr>\n",
       "      <th>4</th>\n",
       "      <td>2021-02-13</td>\n",
       "      <td>2.0</td>\n",
       "      <td>NaN</td>\n",
       "      <td>3.0</td>\n",
       "    </tr>\n",
       "    <tr>\n",
       "      <th>...</th>\n",
       "      <td>...</td>\n",
       "      <td>...</td>\n",
       "      <td>...</td>\n",
       "      <td>...</td>\n",
       "    </tr>\n",
       "    <tr>\n",
       "      <th>413</th>\n",
       "      <td>2022-04-05</td>\n",
       "      <td>46.0</td>\n",
       "      <td>NaN</td>\n",
       "      <td>38.0</td>\n",
       "    </tr>\n",
       "    <tr>\n",
       "      <th>414</th>\n",
       "      <td>2022-04-06</td>\n",
       "      <td>68.0</td>\n",
       "      <td>1.0</td>\n",
       "      <td>40.0</td>\n",
       "    </tr>\n",
       "    <tr>\n",
       "      <th>415</th>\n",
       "      <td>2022-04-07</td>\n",
       "      <td>58.0</td>\n",
       "      <td>NaN</td>\n",
       "      <td>50.0</td>\n",
       "    </tr>\n",
       "    <tr>\n",
       "      <th>416</th>\n",
       "      <td>2022-04-08</td>\n",
       "      <td>94.0</td>\n",
       "      <td>2.0</td>\n",
       "      <td>84.0</td>\n",
       "    </tr>\n",
       "    <tr>\n",
       "      <th>417</th>\n",
       "      <td>2022-04-09</td>\n",
       "      <td>23.0</td>\n",
       "      <td>NaN</td>\n",
       "      <td>16.0</td>\n",
       "    </tr>\n",
       "  </tbody>\n",
       "</table>\n",
       "<p>418 rows × 4 columns</p>\n",
       "</div>"
      ],
      "text/plain": [
       "Type         Day  Incoming  Notification  Outgoing\n",
       "0     2021-02-03       1.0           NaN       2.0\n",
       "1     2021-02-04       1.0           NaN       NaN\n",
       "2     2021-02-08      15.0           NaN      15.0\n",
       "3     2021-02-11       2.0           NaN       2.0\n",
       "4     2021-02-13       2.0           NaN       3.0\n",
       "..           ...       ...           ...       ...\n",
       "413   2022-04-05      46.0           NaN      38.0\n",
       "414   2022-04-06      68.0           1.0      40.0\n",
       "415   2022-04-07      58.0           NaN      50.0\n",
       "416   2022-04-08      94.0           2.0      84.0\n",
       "417   2022-04-09      23.0           NaN      16.0\n",
       "\n",
       "[418 rows x 4 columns]"
      ]
     },
     "execution_count": 110,
     "metadata": {},
     "output_type": "execute_result"
    }
   ],
   "source": [
    "plot_df.reset_index().rename(columns = {0 : 'txts'}).pivot(columns = 'Type', values = 'txts', index = 'Day').reset_index()"
   ]
  },
  {
   "cell_type": "code",
   "execution_count": 111,
   "metadata": {},
   "outputs": [
    {
     "data": {
      "text/plain": [
       "'heyyou'"
      ]
     },
     "execution_count": 111,
     "metadata": {},
     "output_type": "execute_result"
    }
   ],
   "source": [
    "f'hey' + f'you'"
   ]
  },
  {
   "cell_type": "code",
   "execution_count": 89,
   "metadata": {},
   "outputs": [
    {
     "data": {
      "text/plain": [
       "<matplotlib.axes._subplots.AxesSubplot at 0x7f90dcd33350>"
      ]
     },
     "execution_count": 89,
     "metadata": {},
     "output_type": "execute_result"
    },
    {
     "data": {
      "image/png": "[encoded data removed]",
      "text/plain": [
       "<Figure size 432x288 with 1 Axes>"
      ]
     },
     "metadata": {
      "needs_background": "light"
     },
     "output_type": "display_data"
    }
   ],
   "source": [
    "df.groupby('Hour').apply(lambda x: len(x)).plot()"
   ]
  }
 ],
 "metadata": {
  "kernelspec": {
   "display_name": "Python 3",
   "language": "python",
   "name": "python3"
  },
  "language_info": {
   "codemirror_mode": {
    "name": "ipython",
    "version": 3
   },
   "file_extension": ".py",
   "mimetype": "text/x-python",
   "name": "python",
   "nbconvert_exporter": "python",
   "pygments_lexer": "ipython3",
   "version": "3.7.6"
  }
 },
 "nbformat": 4,
 "nbformat_minor": 4
}
