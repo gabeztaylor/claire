{
 "cells": [
  {
   "cell_type": "code",
   "execution_count": 1,
   "metadata": {},
   "outputs": [],
   "source": [
    "import pandas as pd\n",
    "import numpy as np\n",
    "from collections import Counter"
   ]
  },
  {
   "cell_type": "markdown",
   "metadata": {},
   "source": [
    "Ideas\n",
    "- love counter\n",
    "- emoji use summary\n",
    "- attachments\n",
    "- who sent more texts\n",
    "- who sent longer texts\n",
    "- times of the day that we text"
   ]
  },
  {
   "cell_type": "code",
   "execution_count": 2,
   "metadata": {},
   "outputs": [],
   "source": [
    "df = pd.read_csv('/Users/gabrieltaylor/Downloads/Messages - Claire Robinson.csv')"
   ]
  },
  {
   "cell_type": "code",
   "execution_count": 6,
   "metadata": {},
   "outputs": [
    {
     "name": "stdout",
     "output_type": "stream",
     "text": [
      "<class 'pandas.core.frame.DataFrame'>\n",
      "RangeIndex: 49828 entries, 0 to 49827\n",
      "Data columns (total 14 columns):\n",
      " #   Column           Non-Null Count  Dtype  \n",
      "---  ------           --------------  -----  \n",
      " 0   Chat Session     49828 non-null  object \n",
      " 1   Message Date     49828 non-null  object \n",
      " 2   Delivered Date   23727 non-null  object \n",
      " 3   Read Date        25570 non-null  object \n",
      " 4   Service          49828 non-null  object \n",
      " 5   Type             49828 non-null  object \n",
      " 6   Sender ID        26083 non-null  float64\n",
      " 7   Sender Name      26083 non-null  object \n",
      " 8   Status           49681 non-null  object \n",
      " 9   Replying to      2311 non-null   object \n",
      " 10  Subject          0 non-null      float64\n",
      " 11  Text             45312 non-null  object \n",
      " 12  Attachment       4520 non-null   object \n",
      " 13  Attachment type  4520 non-null   object \n",
      "dtypes: float64(2), object(12)\n",
      "memory usage: 5.3+ MB\n"
     ]
    }
   ],
   "source": [
    "df.info()"
   ]
  },
  {
   "cell_type": "code",
   "execution_count": 15,
   "metadata": {},
   "outputs": [
    {
     "data": {
      "text/html": [
       "<div>\n",
       "<style scoped>\n",
       "    .dataframe tbody tr th:only-of-type {\n",
       "        vertical-align: middle;\n",
       "    }\n",
       "\n",
       "    .dataframe tbody tr th {\n",
       "        vertical-align: top;\n",
       "    }\n",
       "\n",
       "    .dataframe thead th {\n",
       "        text-align: right;\n",
       "    }\n",
       "</style>\n",
       "<table border=\"1\" class=\"dataframe\">\n",
       "  <thead>\n",
       "    <tr style=\"text-align: right;\">\n",
       "      <th></th>\n",
       "      <th>Chat Session</th>\n",
       "      <th>Message Date</th>\n",
       "      <th>Delivered Date</th>\n",
       "      <th>Read Date</th>\n",
       "      <th>Service</th>\n",
       "      <th>Type</th>\n",
       "      <th>Sender ID</th>\n",
       "      <th>Sender Name</th>\n",
       "      <th>Status</th>\n",
       "      <th>Replying to</th>\n",
       "      <th>Subject</th>\n",
       "      <th>Text</th>\n",
       "      <th>Attachment</th>\n",
       "      <th>Attachment type</th>\n",
       "    </tr>\n",
       "  </thead>\n",
       "  <tbody>\n",
       "    <tr>\n",
       "      <th>0</th>\n",
       "      <td>Claire Robinson</td>\n",
       "      <td>2021-02-03 22:02:10</td>\n",
       "      <td>NaN</td>\n",
       "      <td>2021-02-03 22:37:40</td>\n",
       "      <td>iMessage</td>\n",
       "      <td>Incoming</td>\n",
       "      <td>1.309371e+10</td>\n",
       "      <td>Claire Robinson</td>\n",
       "      <td>Read</td>\n",
       "      <td>NaN</td>\n",
       "      <td>NaN</td>\n",
       "      <td>hey it’s claire from hinge, when’s our first d...</td>\n",
       "      <td>NaN</td>\n",
       "      <td>NaN</td>\n",
       "    </tr>\n",
       "    <tr>\n",
       "      <th>1</th>\n",
       "      <td>Claire Robinson</td>\n",
       "      <td>2021-02-03 22:39:59</td>\n",
       "      <td>2021-02-03 22:40:48</td>\n",
       "      <td>NaN</td>\n",
       "      <td>iMessage</td>\n",
       "      <td>Outgoing</td>\n",
       "      <td>NaN</td>\n",
       "      <td>NaN</td>\n",
       "      <td>Delivered</td>\n",
       "      <td>NaN</td>\n",
       "      <td>NaN</td>\n",
       "      <td>Next Friday</td>\n",
       "      <td>NaN</td>\n",
       "      <td>NaN</td>\n",
       "    </tr>\n",
       "    <tr>\n",
       "      <th>2</th>\n",
       "      <td>Claire Robinson</td>\n",
       "      <td>2021-02-03 22:40:05</td>\n",
       "      <td>2021-02-03 22:40:48</td>\n",
       "      <td>NaN</td>\n",
       "      <td>iMessage</td>\n",
       "      <td>Outgoing</td>\n",
       "      <td>NaN</td>\n",
       "      <td>NaN</td>\n",
       "      <td>Delivered</td>\n",
       "      <td>NaN</td>\n",
       "      <td>NaN</td>\n",
       "      <td>I can’t believe you forgot</td>\n",
       "      <td>NaN</td>\n",
       "      <td>NaN</td>\n",
       "    </tr>\n",
       "    <tr>\n",
       "      <th>3</th>\n",
       "      <td>Claire Robinson</td>\n",
       "      <td>2021-02-04 14:05:01</td>\n",
       "      <td>NaN</td>\n",
       "      <td>2021-02-04 17:41:59</td>\n",
       "      <td>iMessage</td>\n",
       "      <td>Incoming</td>\n",
       "      <td>1.309371e+10</td>\n",
       "      <td>Claire Robinson</td>\n",
       "      <td>Read</td>\n",
       "      <td>NaN</td>\n",
       "      <td>NaN</td>\n",
       "      <td>Ohh now I remember! can’t wait my love</td>\n",
       "      <td>NaN</td>\n",
       "      <td>NaN</td>\n",
       "    </tr>\n",
       "    <tr>\n",
       "      <th>4</th>\n",
       "      <td>Claire Robinson</td>\n",
       "      <td>2021-02-08 13:38:45</td>\n",
       "      <td>2021-02-08 13:38:46</td>\n",
       "      <td>NaN</td>\n",
       "      <td>iMessage</td>\n",
       "      <td>Outgoing</td>\n",
       "      <td>NaN</td>\n",
       "      <td>NaN</td>\n",
       "      <td>Delivered</td>\n",
       "      <td>NaN</td>\n",
       "      <td>NaN</td>\n",
       "      <td>Where are you living rn</td>\n",
       "      <td>NaN</td>\n",
       "      <td>NaN</td>\n",
       "    </tr>\n",
       "  </tbody>\n",
       "</table>\n",
       "</div>"
      ],
      "text/plain": [
       "      Chat Session         Message Date       Delivered Date  \\\n",
       "0  Claire Robinson  2021-02-03 22:02:10                  NaN   \n",
       "1  Claire Robinson  2021-02-03 22:39:59  2021-02-03 22:40:48   \n",
       "2  Claire Robinson  2021-02-03 22:40:05  2021-02-03 22:40:48   \n",
       "3  Claire Robinson  2021-02-04 14:05:01                  NaN   \n",
       "4  Claire Robinson  2021-02-08 13:38:45  2021-02-08 13:38:46   \n",
       "\n",
       "             Read Date   Service      Type     Sender ID      Sender Name  \\\n",
       "0  2021-02-03 22:37:40  iMessage  Incoming  1.309371e+10  Claire Robinson   \n",
       "1                  NaN  iMessage  Outgoing           NaN              NaN   \n",
       "2                  NaN  iMessage  Outgoing           NaN              NaN   \n",
       "3  2021-02-04 17:41:59  iMessage  Incoming  1.309371e+10  Claire Robinson   \n",
       "4                  NaN  iMessage  Outgoing           NaN              NaN   \n",
       "\n",
       "      Status Replying to  Subject  \\\n",
       "0       Read         NaN      NaN   \n",
       "1  Delivered         NaN      NaN   \n",
       "2  Delivered         NaN      NaN   \n",
       "3       Read         NaN      NaN   \n",
       "4  Delivered         NaN      NaN   \n",
       "\n",
       "                                                Text Attachment  \\\n",
       "0  hey it’s claire from hinge, when’s our first d...        NaN   \n",
       "1                                        Next Friday        NaN   \n",
       "2                         I can’t believe you forgot        NaN   \n",
       "3             Ohh now I remember! can’t wait my love        NaN   \n",
       "4                            Where are you living rn        NaN   \n",
       "\n",
       "  Attachment type  \n",
       "0             NaN  \n",
       "1             NaN  \n",
       "2             NaN  \n",
       "3             NaN  \n",
       "4             NaN  "
      ]
     },
     "execution_count": 15,
     "metadata": {},
     "output_type": "execute_result"
    }
   ],
   "source": [
    "df.head()"
   ]
  },
  {
   "cell_type": "markdown",
   "metadata": {},
   "source": [
    "Claire words"
   ]
  },
  {
   "cell_type": "code",
   "execution_count": 18,
   "metadata": {},
   "outputs": [],
   "source": [
    "claire_corpus = df.loc[df.Type == 'Incoming', 'Text'].str.cat(sep=' ')"
   ]
  },
  {
   "cell_type": "code",
   "execution_count": 29,
   "metadata": {},
   "outputs": [],
   "source": [
    "claire_corpus = [i.lower() for i in claire_corpus.split()]"
   ]
  },
  {
   "cell_type": "code",
   "execution_count": 30,
   "metadata": {},
   "outputs": [],
   "source": [
    "claire_words = dict(Counter(claire_corpus).most_common())"
   ]
  },
  {
   "cell_type": "code",
   "execution_count": 32,
   "metadata": {},
   "outputs": [
    {
     "data": {
      "text/plain": [
       "768"
      ]
     },
     "execution_count": 32,
     "metadata": {},
     "output_type": "execute_result"
    }
   ],
   "source": [
    "claire_words['love']"
   ]
  },
  {
   "cell_type": "markdown",
   "metadata": {},
   "source": [
    "Gabe words"
   ]
  },
  {
   "cell_type": "code",
   "execution_count": 33,
   "metadata": {},
   "outputs": [],
   "source": [
    "gabe_corpus = df.loc[df.Type == 'Outgoing', 'Text'].str.cat(sep=' ')"
   ]
  },
  {
   "cell_type": "code",
   "execution_count": 34,
   "metadata": {},
   "outputs": [],
   "source": [
    "gabe_corpus = [i.lower() for i in gabe_corpus.split()]"
   ]
  },
  {
   "cell_type": "code",
   "execution_count": 35,
   "metadata": {},
   "outputs": [],
   "source": [
    "gabe_words = dict(Counter(gabe_corpus).most_common())"
   ]
  },
  {
   "cell_type": "code",
   "execution_count": 36,
   "metadata": {},
   "outputs": [
    {
     "data": {
      "text/plain": [
       "535"
      ]
     },
     "execution_count": 36,
     "metadata": {},
     "output_type": "execute_result"
    }
   ],
   "source": [
    "gabe_words['love']"
   ]
  },
  {
   "cell_type": "markdown",
   "metadata": {},
   "source": [
    "Change Date type"
   ]
  },
  {
   "cell_type": "code",
   "execution_count": 42,
   "metadata": {},
   "outputs": [],
   "source": [
    "df['Message Date'] = df['Message Date'].apply(pd.to_datetime)"
   ]
  },
  {
   "cell_type": "code",
   "execution_count": 67,
   "metadata": {},
   "outputs": [],
   "source": [
    "df['Day'] = df['Message Date'].dt.date\n",
    "df['Time'] = df['Message Date'].dt.time\n",
    "df['Hour'] = df['Message Date'].dt.hour"
   ]
  },
  {
   "cell_type": "code",
   "execution_count": 51,
   "metadata": {},
   "outputs": [],
   "source": [
    "import matplotlib.pyplot as plt\n",
    "import seaborn as sns"
   ]
  },
  {
   "cell_type": "code",
   "execution_count": 71,
   "metadata": {},
   "outputs": [
    {
     "data": {
      "text/plain": [
       "<matplotlib.axes._subplots.AxesSubplot at 0x7f90dc63b1d0>"
      ]
     },
     "execution_count": 71,
     "metadata": {},
     "output_type": "execute_result"
    },
    {
     "data": {
      "image/png": "[encoded data removed]",
      "text/plain": [
       "<Figure size 432x288 with 1 Axes>"
      ]
     },
     "metadata": {
      "needs_background": "light"
     },
     "output_type": "display_data"
    }
   ],
   "source": [
    "df.groupby('Day').apply(lambda x: len(x)).plot()"
   ]
  },
  {
   "cell_type": "code",
   "execution_count": 69,
   "metadata": {},
   "outputs": [
    {
     "data": {
      "text/plain": [
       "<matplotlib.axes._subplots.AxesSubplot at 0x7f90dc62b350>"
      ]
     },
     "execution_count": 69,
     "metadata": {},
     "output_type": "execute_result"
    },
    {
     "data": {
      "image/png": "[encoded data removed]",
      "text/plain": [
       "<Figure size 432x288 with 1 Axes>"
      ]
     },
     "metadata": {
      "needs_background": "light"
     },
     "output_type": "display_data"
    }
   ],
   "source": [
    "df.groupby('Hour').apply(lambda x: len(x)).plot()"
   ]
  }
 ],
 "metadata": {
  "kernelspec": {
   "display_name": "Python 3",
   "language": "python",
   "name": "python3"
  },
  "language_info": {
   "codemirror_mode": {
    "name": "ipython",
    "version": 3
   },
   "file_extension": ".py",
   "mimetype": "text/x-python",
   "name": "python",
   "nbconvert_exporter": "python",
   "pygments_lexer": "ipython3",
   "version": "3.7.6"
  }
 },
 "nbformat": 4,
 "nbformat_minor": 4
}
